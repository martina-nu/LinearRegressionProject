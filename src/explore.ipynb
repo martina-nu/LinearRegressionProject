{
    "cells": [
        {
            "cell_type": "markdown",
            "metadata": {},
            "source": [
                "# Linear Regression Project\n",
                "\n",
                "\n"
            ]
        },
        {
            "cell_type": "code",
            "execution_count": 107,
            "metadata": {},
            "outputs": [],
            "source": [
                "import pandas as pd\n",
                "import numpy as np\n",
                "import seaborn as sns\n",
                "from sklearn.linear_model import LinearRegression\n",
                "from sklearn.model_selection import train_test_split\n",
                "from sklearn import metrics\n",
                "#!pip install statsmodels\n",
                "import statsmodels.api as sm\n",
                "from statsmodels.api import OLS\n",
                "from sklearn.preprocessing import PolynomialFeatures"
            ]
        },
        {
            "cell_type": "markdown",
            "metadata": {},
            "source": [
                "### Step 1"
            ]
        },
        {
            "cell_type": "code",
            "execution_count": 86,
            "metadata": {},
            "outputs": [],
            "source": [
                "url = \"https://raw.githubusercontent.com/4GeeksAcademy/linear-regression-project-tutorial/main/medical_insurance_cost.csv\"\n",
                "df = pd.read_csv(url)"
            ]
        },
        {
            "cell_type": "code",
            "execution_count": 87,
            "metadata": {},
            "outputs": [
                {
                    "data": {
                        "text/html": [
                            "<div>\n",
                            "<style scoped>\n",
                            "    .dataframe tbody tr th:only-of-type {\n",
                            "        vertical-align: middle;\n",
                            "    }\n",
                            "\n",
                            "    .dataframe tbody tr th {\n",
                            "        vertical-align: top;\n",
                            "    }\n",
                            "\n",
                            "    .dataframe thead th {\n",
                            "        text-align: right;\n",
                            "    }\n",
                            "</style>\n",
                            "<table border=\"1\" class=\"dataframe\">\n",
                            "  <thead>\n",
                            "    <tr style=\"text-align: right;\">\n",
                            "      <th></th>\n",
                            "      <th>age</th>\n",
                            "      <th>sex</th>\n",
                            "      <th>bmi</th>\n",
                            "      <th>children</th>\n",
                            "      <th>smoker</th>\n",
                            "      <th>region</th>\n",
                            "      <th>charges</th>\n",
                            "    </tr>\n",
                            "  </thead>\n",
                            "  <tbody>\n",
                            "    <tr>\n",
                            "      <th>886</th>\n",
                            "      <td>57</td>\n",
                            "      <td>male</td>\n",
                            "      <td>28.975</td>\n",
                            "      <td>0</td>\n",
                            "      <td>yes</td>\n",
                            "      <td>northeast</td>\n",
                            "      <td>27218.43725</td>\n",
                            "    </tr>\n",
                            "    <tr>\n",
                            "      <th>1160</th>\n",
                            "      <td>43</td>\n",
                            "      <td>female</td>\n",
                            "      <td>34.580</td>\n",
                            "      <td>1</td>\n",
                            "      <td>no</td>\n",
                            "      <td>northwest</td>\n",
                            "      <td>7727.25320</td>\n",
                            "    </tr>\n",
                            "    <tr>\n",
                            "      <th>947</th>\n",
                            "      <td>37</td>\n",
                            "      <td>male</td>\n",
                            "      <td>34.200</td>\n",
                            "      <td>1</td>\n",
                            "      <td>yes</td>\n",
                            "      <td>northeast</td>\n",
                            "      <td>39047.28500</td>\n",
                            "    </tr>\n",
                            "    <tr>\n",
                            "      <th>617</th>\n",
                            "      <td>49</td>\n",
                            "      <td>male</td>\n",
                            "      <td>25.600</td>\n",
                            "      <td>2</td>\n",
                            "      <td>yes</td>\n",
                            "      <td>southwest</td>\n",
                            "      <td>23306.54700</td>\n",
                            "    </tr>\n",
                            "    <tr>\n",
                            "      <th>930</th>\n",
                            "      <td>26</td>\n",
                            "      <td>male</td>\n",
                            "      <td>46.530</td>\n",
                            "      <td>1</td>\n",
                            "      <td>no</td>\n",
                            "      <td>southeast</td>\n",
                            "      <td>2927.06470</td>\n",
                            "    </tr>\n",
                            "    <tr>\n",
                            "      <th>792</th>\n",
                            "      <td>22</td>\n",
                            "      <td>female</td>\n",
                            "      <td>23.180</td>\n",
                            "      <td>0</td>\n",
                            "      <td>no</td>\n",
                            "      <td>northeast</td>\n",
                            "      <td>2731.91220</td>\n",
                            "    </tr>\n",
                            "    <tr>\n",
                            "      <th>1082</th>\n",
                            "      <td>38</td>\n",
                            "      <td>male</td>\n",
                            "      <td>19.950</td>\n",
                            "      <td>1</td>\n",
                            "      <td>no</td>\n",
                            "      <td>northwest</td>\n",
                            "      <td>5855.90250</td>\n",
                            "    </tr>\n",
                            "    <tr>\n",
                            "      <th>648</th>\n",
                            "      <td>18</td>\n",
                            "      <td>male</td>\n",
                            "      <td>28.500</td>\n",
                            "      <td>0</td>\n",
                            "      <td>no</td>\n",
                            "      <td>northeast</td>\n",
                            "      <td>1712.22700</td>\n",
                            "    </tr>\n",
                            "    <tr>\n",
                            "      <th>1234</th>\n",
                            "      <td>45</td>\n",
                            "      <td>female</td>\n",
                            "      <td>27.830</td>\n",
                            "      <td>2</td>\n",
                            "      <td>no</td>\n",
                            "      <td>southeast</td>\n",
                            "      <td>8515.75870</td>\n",
                            "    </tr>\n",
                            "    <tr>\n",
                            "      <th>333</th>\n",
                            "      <td>56</td>\n",
                            "      <td>female</td>\n",
                            "      <td>28.785</td>\n",
                            "      <td>0</td>\n",
                            "      <td>no</td>\n",
                            "      <td>northeast</td>\n",
                            "      <td>11658.37915</td>\n",
                            "    </tr>\n",
                            "  </tbody>\n",
                            "</table>\n",
                            "</div>"
                        ],
                        "text/plain": [
                            "      age     sex     bmi  children smoker     region      charges\n",
                            "886    57    male  28.975         0    yes  northeast  27218.43725\n",
                            "1160   43  female  34.580         1     no  northwest   7727.25320\n",
                            "947    37    male  34.200         1    yes  northeast  39047.28500\n",
                            "617    49    male  25.600         2    yes  southwest  23306.54700\n",
                            "930    26    male  46.530         1     no  southeast   2927.06470\n",
                            "792    22  female  23.180         0     no  northeast   2731.91220\n",
                            "1082   38    male  19.950         1     no  northwest   5855.90250\n",
                            "648    18    male  28.500         0     no  northeast   1712.22700\n",
                            "1234   45  female  27.830         2     no  southeast   8515.75870\n",
                            "333    56  female  28.785         0     no  northeast  11658.37915"
                        ]
                    },
                    "execution_count": 87,
                    "metadata": {},
                    "output_type": "execute_result"
                }
            ],
            "source": [
                "df.sample(10)"
            ]
        },
        {
            "cell_type": "markdown",
            "metadata": {},
            "source": [
                "### Step 2"
            ]
        },
        {
            "cell_type": "code",
            "execution_count": 88,
            "metadata": {},
            "outputs": [
                {
                    "name": "stdout",
                    "output_type": "stream",
                    "text": [
                        "<class 'pandas.core.frame.DataFrame'>\n",
                        "RangeIndex: 1338 entries, 0 to 1337\n",
                        "Data columns (total 7 columns):\n",
                        " #   Column    Non-Null Count  Dtype  \n",
                        "---  ------    --------------  -----  \n",
                        " 0   age       1338 non-null   int64  \n",
                        " 1   sex       1338 non-null   object \n",
                        " 2   bmi       1338 non-null   float64\n",
                        " 3   children  1338 non-null   int64  \n",
                        " 4   smoker    1338 non-null   object \n",
                        " 5   region    1338 non-null   object \n",
                        " 6   charges   1338 non-null   float64\n",
                        "dtypes: float64(2), int64(2), object(3)\n",
                        "memory usage: 73.3+ KB\n"
                    ]
                }
            ],
            "source": [
                "df.info()"
            ]
        },
        {
            "cell_type": "code",
            "execution_count": 89,
            "metadata": {},
            "outputs": [
                {
                    "data": {
                        "text/html": [
                            "<div>\n",
                            "<style scoped>\n",
                            "    .dataframe tbody tr th:only-of-type {\n",
                            "        vertical-align: middle;\n",
                            "    }\n",
                            "\n",
                            "    .dataframe tbody tr th {\n",
                            "        vertical-align: top;\n",
                            "    }\n",
                            "\n",
                            "    .dataframe thead th {\n",
                            "        text-align: right;\n",
                            "    }\n",
                            "</style>\n",
                            "<table border=\"1\" class=\"dataframe\">\n",
                            "  <thead>\n",
                            "    <tr style=\"text-align: right;\">\n",
                            "      <th></th>\n",
                            "      <th>age</th>\n",
                            "      <th>bmi</th>\n",
                            "      <th>children</th>\n",
                            "      <th>charges</th>\n",
                            "    </tr>\n",
                            "  </thead>\n",
                            "  <tbody>\n",
                            "    <tr>\n",
                            "      <th>count</th>\n",
                            "      <td>1338.000000</td>\n",
                            "      <td>1338.000000</td>\n",
                            "      <td>1338.000000</td>\n",
                            "      <td>1338.000000</td>\n",
                            "    </tr>\n",
                            "    <tr>\n",
                            "      <th>mean</th>\n",
                            "      <td>39.207025</td>\n",
                            "      <td>30.663397</td>\n",
                            "      <td>1.094918</td>\n",
                            "      <td>13270.422265</td>\n",
                            "    </tr>\n",
                            "    <tr>\n",
                            "      <th>std</th>\n",
                            "      <td>14.049960</td>\n",
                            "      <td>6.098187</td>\n",
                            "      <td>1.205493</td>\n",
                            "      <td>12110.011237</td>\n",
                            "    </tr>\n",
                            "    <tr>\n",
                            "      <th>min</th>\n",
                            "      <td>18.000000</td>\n",
                            "      <td>15.960000</td>\n",
                            "      <td>0.000000</td>\n",
                            "      <td>1121.873900</td>\n",
                            "    </tr>\n",
                            "    <tr>\n",
                            "      <th>25%</th>\n",
                            "      <td>27.000000</td>\n",
                            "      <td>26.296250</td>\n",
                            "      <td>0.000000</td>\n",
                            "      <td>4740.287150</td>\n",
                            "    </tr>\n",
                            "    <tr>\n",
                            "      <th>50%</th>\n",
                            "      <td>39.000000</td>\n",
                            "      <td>30.400000</td>\n",
                            "      <td>1.000000</td>\n",
                            "      <td>9382.033000</td>\n",
                            "    </tr>\n",
                            "    <tr>\n",
                            "      <th>75%</th>\n",
                            "      <td>51.000000</td>\n",
                            "      <td>34.693750</td>\n",
                            "      <td>2.000000</td>\n",
                            "      <td>16639.912515</td>\n",
                            "    </tr>\n",
                            "    <tr>\n",
                            "      <th>max</th>\n",
                            "      <td>64.000000</td>\n",
                            "      <td>53.130000</td>\n",
                            "      <td>5.000000</td>\n",
                            "      <td>63770.428010</td>\n",
                            "    </tr>\n",
                            "  </tbody>\n",
                            "</table>\n",
                            "</div>"
                        ],
                        "text/plain": [
                            "               age          bmi     children       charges\n",
                            "count  1338.000000  1338.000000  1338.000000   1338.000000\n",
                            "mean     39.207025    30.663397     1.094918  13270.422265\n",
                            "std      14.049960     6.098187     1.205493  12110.011237\n",
                            "min      18.000000    15.960000     0.000000   1121.873900\n",
                            "25%      27.000000    26.296250     0.000000   4740.287150\n",
                            "50%      39.000000    30.400000     1.000000   9382.033000\n",
                            "75%      51.000000    34.693750     2.000000  16639.912515\n",
                            "max      64.000000    53.130000     5.000000  63770.428010"
                        ]
                    },
                    "execution_count": 89,
                    "metadata": {},
                    "output_type": "execute_result"
                }
            ],
            "source": [
                "df.describe()"
            ]
        },
        {
            "cell_type": "code",
            "execution_count": 90,
            "metadata": {},
            "outputs": [
                {
                    "data": {
                        "text/html": [
                            "<div>\n",
                            "<style scoped>\n",
                            "    .dataframe tbody tr th:only-of-type {\n",
                            "        vertical-align: middle;\n",
                            "    }\n",
                            "\n",
                            "    .dataframe tbody tr th {\n",
                            "        vertical-align: top;\n",
                            "    }\n",
                            "\n",
                            "    .dataframe thead th {\n",
                            "        text-align: right;\n",
                            "    }\n",
                            "</style>\n",
                            "<table border=\"1\" class=\"dataframe\">\n",
                            "  <thead>\n",
                            "    <tr style=\"text-align: right;\">\n",
                            "      <th></th>\n",
                            "      <th>sex</th>\n",
                            "      <th>smoker</th>\n",
                            "      <th>region</th>\n",
                            "    </tr>\n",
                            "  </thead>\n",
                            "  <tbody>\n",
                            "    <tr>\n",
                            "      <th>count</th>\n",
                            "      <td>1338</td>\n",
                            "      <td>1338</td>\n",
                            "      <td>1338</td>\n",
                            "    </tr>\n",
                            "    <tr>\n",
                            "      <th>unique</th>\n",
                            "      <td>2</td>\n",
                            "      <td>2</td>\n",
                            "      <td>4</td>\n",
                            "    </tr>\n",
                            "    <tr>\n",
                            "      <th>top</th>\n",
                            "      <td>male</td>\n",
                            "      <td>no</td>\n",
                            "      <td>southeast</td>\n",
                            "    </tr>\n",
                            "    <tr>\n",
                            "      <th>freq</th>\n",
                            "      <td>676</td>\n",
                            "      <td>1064</td>\n",
                            "      <td>364</td>\n",
                            "    </tr>\n",
                            "  </tbody>\n",
                            "</table>\n",
                            "</div>"
                        ],
                        "text/plain": [
                            "         sex smoker     region\n",
                            "count   1338   1338       1338\n",
                            "unique     2      2          4\n",
                            "top     male     no  southeast\n",
                            "freq     676   1064        364"
                        ]
                    },
                    "execution_count": 90,
                    "metadata": {},
                    "output_type": "execute_result"
                }
            ],
            "source": [
                "df.describe(include=\"O\")"
            ]
        },
        {
            "cell_type": "markdown",
            "metadata": {},
            "source": [
                "Verificar duplicados"
            ]
        },
        {
            "cell_type": "code",
            "execution_count": 91,
            "metadata": {},
            "outputs": [
                {
                    "data": {
                        "text/plain": [
                            "True"
                        ]
                    },
                    "execution_count": 91,
                    "metadata": {},
                    "output_type": "execute_result"
                }
            ],
            "source": [
                "df.duplicated().any()"
            ]
        },
        {
            "cell_type": "code",
            "execution_count": 92,
            "metadata": {},
            "outputs": [
                {
                    "data": {
                        "text/html": [
                            "<div>\n",
                            "<style scoped>\n",
                            "    .dataframe tbody tr th:only-of-type {\n",
                            "        vertical-align: middle;\n",
                            "    }\n",
                            "\n",
                            "    .dataframe tbody tr th {\n",
                            "        vertical-align: top;\n",
                            "    }\n",
                            "\n",
                            "    .dataframe thead th {\n",
                            "        text-align: right;\n",
                            "    }\n",
                            "</style>\n",
                            "<table border=\"1\" class=\"dataframe\">\n",
                            "  <thead>\n",
                            "    <tr style=\"text-align: right;\">\n",
                            "      <th></th>\n",
                            "      <th>age</th>\n",
                            "      <th>sex</th>\n",
                            "      <th>bmi</th>\n",
                            "      <th>children</th>\n",
                            "      <th>smoker</th>\n",
                            "      <th>region</th>\n",
                            "      <th>charges</th>\n",
                            "    </tr>\n",
                            "  </thead>\n",
                            "  <tbody>\n",
                            "    <tr>\n",
                            "      <th>195</th>\n",
                            "      <td>19</td>\n",
                            "      <td>male</td>\n",
                            "      <td>30.59</td>\n",
                            "      <td>0</td>\n",
                            "      <td>no</td>\n",
                            "      <td>northwest</td>\n",
                            "      <td>1639.5631</td>\n",
                            "    </tr>\n",
                            "    <tr>\n",
                            "      <th>581</th>\n",
                            "      <td>19</td>\n",
                            "      <td>male</td>\n",
                            "      <td>30.59</td>\n",
                            "      <td>0</td>\n",
                            "      <td>no</td>\n",
                            "      <td>northwest</td>\n",
                            "      <td>1639.5631</td>\n",
                            "    </tr>\n",
                            "  </tbody>\n",
                            "</table>\n",
                            "</div>"
                        ],
                        "text/plain": [
                            "     age   sex    bmi  children smoker     region    charges\n",
                            "195   19  male  30.59         0     no  northwest  1639.5631\n",
                            "581   19  male  30.59         0     no  northwest  1639.5631"
                        ]
                    },
                    "execution_count": 92,
                    "metadata": {},
                    "output_type": "execute_result"
                }
            ],
            "source": [
                "df[df.duplicated(keep=False)]"
            ]
        },
        {
            "cell_type": "markdown",
            "metadata": {},
            "source": [
                "En este caso nos podríamos quedar con los duplicados dado que pueden ser personas distintas"
            ]
        },
        {
            "cell_type": "markdown",
            "metadata": {},
            "source": [
                "Correlation matrix"
            ]
        },
        {
            "cell_type": "code",
            "execution_count": 93,
            "metadata": {},
            "outputs": [
                {
                    "data": {
                        "text/plain": [
                            "<AxesSubplot:>"
                        ]
                    },
                    "execution_count": 93,
                    "metadata": {},
                    "output_type": "execute_result"
                },
                {
                    "data": {
                        "image/png": "[encoded data removed]",
                        "text/plain": [
                            "<Figure size 432x288 with 2 Axes>"
                        ]
                    },
                    "metadata": {
                        "needs_background": "light"
                    },
                    "output_type": "display_data"
                }
            ],
            "source": [
                "sns.heatmap(df.corr(), annot= True)"
            ]
        },
        {
            "cell_type": "code",
            "execution_count": 94,
            "metadata": {},
            "outputs": [],
            "source": [
                "#Pasar variables categoricas \n",
                "\n",
                "df = pd.get_dummies(df, columns=['sex','smoker','region'], drop_first=True)\n",
                "\n",
                "#Categoria de referencias sexo femenino, no fumador y región noreste (categorías que no se incluyen)"
            ]
        },
        {
            "cell_type": "markdown",
            "metadata": {},
            "source": [
                "### Step 3\n"
            ]
        },
        {
            "cell_type": "code",
            "execution_count": 95,
            "metadata": {},
            "outputs": [],
            "source": [
                "x = df.drop(\"charges\", axis=1)\n",
                "y = df.charges"
            ]
        },
        {
            "cell_type": "code",
            "execution_count": 96,
            "metadata": {},
            "outputs": [],
            "source": [
                "# Separar train y test\n",
                "\n",
                "x_train, x_test, y_train, y_test = train_test_split(x,y, test_size=0.25, random_state = 15)"
            ]
        },
        {
            "cell_type": "code",
            "execution_count": 97,
            "metadata": {},
            "outputs": [
                {
                    "name": "stdout",
                    "output_type": "stream",
                    "text": [
                        "Intercept:  -11812.952212787559\n",
                        "Variables:  Index(['age', 'bmi', 'children', 'sex_male', 'smoker_yes', 'region_northwest',\n",
                        "       'region_southeast', 'region_southwest'],\n",
                        "      dtype='object')\n",
                        "Coeficientes:  [  259.28377294   334.33013348   560.38480047  -216.92164981\n",
                        " 24043.57115706  -210.36710762 -1159.01410243  -989.16702841]\n"
                    ]
                }
            ],
            "source": [
                "model = LinearRegression() #cargar modelo\n",
                "\n",
                "#Entrenar\n",
                "\n",
                "model.fit(x_train, y_train)\n",
                "\n",
                "print( \"Intercept: \", model.intercept_ )\n",
                "print(\"Variables: \", x_train.columns)\n",
                "print( \"Coeficientes: \", model.coef_ ) #Coeficientes para cada una de las variables\n"
            ]
        },
        {
            "cell_type": "code",
            "execution_count": 98,
            "metadata": {},
            "outputs": [
                {
                    "data": {
                        "text/html": [
                            "<table class=\"simpletable\">\n",
                            "<caption>OLS Regression Results</caption>\n",
                            "<tr>\n",
                            "  <th>Dep. Variable:</th>         <td>charges</td>     <th>  R-squared:         </th> <td>   0.739</td> \n",
                            "</tr>\n",
                            "<tr>\n",
                            "  <th>Model:</th>                   <td>OLS</td>       <th>  Adj. R-squared:    </th> <td>   0.737</td> \n",
                            "</tr>\n",
                            "<tr>\n",
                            "  <th>Method:</th>             <td>Least Squares</td>  <th>  F-statistic:       </th> <td>   351.2</td> \n",
                            "</tr>\n",
                            "<tr>\n",
                            "  <th>Date:</th>             <td>Mon, 04 Jul 2022</td> <th>  Prob (F-statistic):</th> <td>1.85e-283</td>\n",
                            "</tr>\n",
                            "<tr>\n",
                            "  <th>Time:</th>                 <td>23:41:07</td>     <th>  Log-Likelihood:    </th> <td> -10183.</td> \n",
                            "</tr>\n",
                            "<tr>\n",
                            "  <th>No. Observations:</th>      <td>  1003</td>      <th>  AIC:               </th> <td>2.038e+04</td>\n",
                            "</tr>\n",
                            "<tr>\n",
                            "  <th>Df Residuals:</th>          <td>   994</td>      <th>  BIC:               </th> <td>2.043e+04</td>\n",
                            "</tr>\n",
                            "<tr>\n",
                            "  <th>Df Model:</th>              <td>     8</td>      <th>                     </th>     <td> </td>    \n",
                            "</tr>\n",
                            "<tr>\n",
                            "  <th>Covariance Type:</th>      <td>nonrobust</td>    <th>                     </th>     <td> </td>    \n",
                            "</tr>\n",
                            "</table>\n",
                            "<table class=\"simpletable\">\n",
                            "<tr>\n",
                            "          <td></td>            <th>coef</th>     <th>std err</th>      <th>t</th>      <th>P>|t|</th>  <th>[0.025</th>    <th>0.975]</th>  \n",
                            "</tr>\n",
                            "<tr>\n",
                            "  <th>const</th>            <td>-1.181e+04</td> <td> 1164.810</td> <td>  -10.142</td> <td> 0.000</td> <td>-1.41e+04</td> <td>-9527.184</td>\n",
                            "</tr>\n",
                            "<tr>\n",
                            "  <th>age</th>              <td>  259.2838</td> <td>   14.094</td> <td>   18.396</td> <td> 0.000</td> <td>  231.626</td> <td>  286.942</td>\n",
                            "</tr>\n",
                            "<tr>\n",
                            "  <th>bmi</th>              <td>  334.3301</td> <td>   33.696</td> <td>    9.922</td> <td> 0.000</td> <td>  268.206</td> <td>  400.454</td>\n",
                            "</tr>\n",
                            "<tr>\n",
                            "  <th>children</th>         <td>  560.3848</td> <td>  161.831</td> <td>    3.463</td> <td> 0.001</td> <td>  242.816</td> <td>  877.954</td>\n",
                            "</tr>\n",
                            "<tr>\n",
                            "  <th>sex_male</th>         <td> -216.9216</td> <td>  397.204</td> <td>   -0.546</td> <td> 0.585</td> <td> -996.376</td> <td>  562.532</td>\n",
                            "</tr>\n",
                            "<tr>\n",
                            "  <th>smoker_yes</th>       <td> 2.404e+04</td> <td>  499.031</td> <td>   48.181</td> <td> 0.000</td> <td> 2.31e+04</td> <td>  2.5e+04</td>\n",
                            "</tr>\n",
                            "<tr>\n",
                            "  <th>region_northwest</th> <td> -210.3671</td> <td>  567.856</td> <td>   -0.370</td> <td> 0.711</td> <td>-1324.700</td> <td>  903.966</td>\n",
                            "</tr>\n",
                            "<tr>\n",
                            "  <th>region_southeast</th> <td>-1159.0141</td> <td>  572.395</td> <td>   -2.025</td> <td> 0.043</td> <td>-2282.255</td> <td>  -35.773</td>\n",
                            "</tr>\n",
                            "<tr>\n",
                            "  <th>region_southwest</th> <td> -989.1670</td> <td>  558.264</td> <td>   -1.772</td> <td> 0.077</td> <td>-2084.678</td> <td>  106.343</td>\n",
                            "</tr>\n",
                            "</table>\n",
                            "<table class=\"simpletable\">\n",
                            "<tr>\n",
                            "  <th>Omnibus:</th>       <td>231.741</td> <th>  Durbin-Watson:     </th> <td>   2.155</td> \n",
                            "</tr>\n",
                            "<tr>\n",
                            "  <th>Prob(Omnibus):</th> <td> 0.000</td>  <th>  Jarque-Bera (JB):  </th> <td> 545.491</td> \n",
                            "</tr>\n",
                            "<tr>\n",
                            "  <th>Skew:</th>          <td> 1.239</td>  <th>  Prob(JB):          </th> <td>3.53e-119</td>\n",
                            "</tr>\n",
                            "<tr>\n",
                            "  <th>Kurtosis:</th>      <td> 5.629</td>  <th>  Cond. No.          </th> <td>    310.</td> \n",
                            "</tr>\n",
                            "</table><br/><br/>Notes:<br/>[1] Standard Errors assume that the covariance matrix of the errors is correctly specified."
                        ],
                        "text/plain": [
                            "<class 'statsmodels.iolib.summary.Summary'>\n",
                            "\"\"\"\n",
                            "                            OLS Regression Results                            \n",
                            "==============================================================================\n",
                            "Dep. Variable:                charges   R-squared:                       0.739\n",
                            "Model:                            OLS   Adj. R-squared:                  0.737\n",
                            "Method:                 Least Squares   F-statistic:                     351.2\n",
                            "Date:                Mon, 04 Jul 2022   Prob (F-statistic):          1.85e-283\n",
                            "Time:                        23:41:07   Log-Likelihood:                -10183.\n",
                            "No. Observations:                1003   AIC:                         2.038e+04\n",
                            "Df Residuals:                     994   BIC:                         2.043e+04\n",
                            "Df Model:                           8                                         \n",
                            "Covariance Type:            nonrobust                                         \n",
                            "====================================================================================\n",
                            "                       coef    std err          t      P>|t|      [0.025      0.975]\n",
                            "------------------------------------------------------------------------------------\n",
                            "const            -1.181e+04   1164.810    -10.142      0.000   -1.41e+04   -9527.184\n",
                            "age                259.2838     14.094     18.396      0.000     231.626     286.942\n",
                            "bmi                334.3301     33.696      9.922      0.000     268.206     400.454\n",
                            "children           560.3848    161.831      3.463      0.001     242.816     877.954\n",
                            "sex_male          -216.9216    397.204     -0.546      0.585    -996.376     562.532\n",
                            "smoker_yes        2.404e+04    499.031     48.181      0.000    2.31e+04     2.5e+04\n",
                            "region_northwest  -210.3671    567.856     -0.370      0.711   -1324.700     903.966\n",
                            "region_southeast -1159.0141    572.395     -2.025      0.043   -2282.255     -35.773\n",
                            "region_southwest  -989.1670    558.264     -1.772      0.077   -2084.678     106.343\n",
                            "==============================================================================\n",
                            "Omnibus:                      231.741   Durbin-Watson:                   2.155\n",
                            "Prob(Omnibus):                  0.000   Jarque-Bera (JB):              545.491\n",
                            "Skew:                           1.239   Prob(JB):                    3.53e-119\n",
                            "Kurtosis:                       5.629   Cond. No.                         310.\n",
                            "==============================================================================\n",
                            "\n",
                            "Notes:\n",
                            "[1] Standard Errors assume that the covariance matrix of the errors is correctly specified.\n",
                            "\"\"\""
                        ]
                    },
                    "execution_count": 98,
                    "metadata": {},
                    "output_type": "execute_result"
                }
            ],
            "source": [
                "x_interceptor = sm.add_constant(x_train)\n",
                "model2 = sm.OLS(y_train, x_interceptor)\n",
                "results = model2.fit()\n",
                "results.summary()"
            ]
        },
        {
            "cell_type": "code",
            "execution_count": 99,
            "metadata": {},
            "outputs": [],
            "source": [
                "#Predicciones\n",
                "\n",
                "y_pred = model.predict(x_test)\n"
            ]
        },
        {
            "cell_type": "code",
            "execution_count": 100,
            "metadata": {},
            "outputs": [
                {
                    "name": "stdout",
                    "output_type": "stream",
                    "text": [
                        "Mean Absolute Error:  4023.6471495940405\n",
                        "Mean Squared Error:  30723136.826880053\n",
                        "Root Mean Squared Error:  5542.845553222645\n"
                    ]
                }
            ],
            "source": [
                "#Metricas \n",
                "\n",
                "print(\"Mean Absolute Error: \",metrics.mean_absolute_error(y_test, y_pred))\n",
                "print(\"Mean Squared Error: \",metrics.mean_squared_error(y_test, y_pred))\n",
                "print(\"Root Mean Squared Error: \",np.sqrt(metrics.mean_squared_error(y_test, y_pred)))"
            ]
        },
        {
            "cell_type": "markdown",
            "metadata": {},
            "source": [
                "### Step 4"
            ]
        },
        {
            "cell_type": "code",
            "execution_count": 101,
            "metadata": {},
            "outputs": [
                {
                    "data": {
                        "text/html": [
                            "<style>#sk-container-id-2 {color: black;background-color: white;}#sk-container-id-2 pre{padding: 0;}#sk-container-id-2 div.sk-toggleable {background-color: white;}#sk-container-id-2 label.sk-toggleable__label {cursor: pointer;display: block;width: 100%;margin-bottom: 0;padding: 0.3em;box-sizing: border-box;text-align: center;}#sk-container-id-2 label.sk-toggleable__label-arrow:before {content: \"▸\";float: left;margin-right: 0.25em;color: #696969;}#sk-container-id-2 label.sk-toggleable__label-arrow:hover:before {color: black;}#sk-container-id-2 div.sk-estimator:hover label.sk-toggleable__label-arrow:before {color: black;}#sk-container-id-2 div.sk-toggleable__content {max-height: 0;max-width: 0;overflow: hidden;text-align: left;background-color: #f0f8ff;}#sk-container-id-2 div.sk-toggleable__content pre {margin: 0.2em;color: black;border-radius: 0.25em;background-color: #f0f8ff;}#sk-container-id-2 input.sk-toggleable__control:checked~div.sk-toggleable__content {max-height: 200px;max-width: 100%;overflow: auto;}#sk-container-id-2 input.sk-toggleable__control:checked~label.sk-toggleable__label-arrow:before {content: \"▾\";}#sk-container-id-2 div.sk-estimator input.sk-toggleable__control:checked~label.sk-toggleable__label {background-color: #d4ebff;}#sk-container-id-2 div.sk-label input.sk-toggleable__control:checked~label.sk-toggleable__label {background-color: #d4ebff;}#sk-container-id-2 input.sk-hidden--visually {border: 0;clip: rect(1px 1px 1px 1px);clip: rect(1px, 1px, 1px, 1px);height: 1px;margin: -1px;overflow: hidden;padding: 0;position: absolute;width: 1px;}#sk-container-id-2 div.sk-estimator {font-family: monospace;background-color: #f0f8ff;border: 1px dotted black;border-radius: 0.25em;box-sizing: border-box;margin-bottom: 0.5em;}#sk-container-id-2 div.sk-estimator:hover {background-color: #d4ebff;}#sk-container-id-2 div.sk-parallel-item::after {content: \"\";width: 100%;border-bottom: 1px solid gray;flex-grow: 1;}#sk-container-id-2 div.sk-label:hover label.sk-toggleable__label {background-color: #d4ebff;}#sk-container-id-2 div.sk-serial::before {content: \"\";position: absolute;border-left: 1px solid gray;box-sizing: border-box;top: 0;bottom: 0;left: 50%;z-index: 0;}#sk-container-id-2 div.sk-serial {display: flex;flex-direction: column;align-items: center;background-color: white;padding-right: 0.2em;padding-left: 0.2em;position: relative;}#sk-container-id-2 div.sk-item {position: relative;z-index: 1;}#sk-container-id-2 div.sk-parallel {display: flex;align-items: stretch;justify-content: center;background-color: white;position: relative;}#sk-container-id-2 div.sk-item::before, #sk-container-id-2 div.sk-parallel-item::before {content: \"\";position: absolute;border-left: 1px solid gray;box-sizing: border-box;top: 0;bottom: 0;left: 50%;z-index: -1;}#sk-container-id-2 div.sk-parallel-item {display: flex;flex-direction: column;z-index: 1;position: relative;background-color: white;}#sk-container-id-2 div.sk-parallel-item:first-child::after {align-self: flex-end;width: 50%;}#sk-container-id-2 div.sk-parallel-item:last-child::after {align-self: flex-start;width: 50%;}#sk-container-id-2 div.sk-parallel-item:only-child::after {width: 0;}#sk-container-id-2 div.sk-dashed-wrapped {border: 1px dashed gray;margin: 0 0.4em 0.5em 0.4em;box-sizing: border-box;padding-bottom: 0.4em;background-color: white;}#sk-container-id-2 div.sk-label label {font-family: monospace;font-weight: bold;display: inline-block;line-height: 1.2em;}#sk-container-id-2 div.sk-label-container {text-align: center;}#sk-container-id-2 div.sk-container {/* jupyter's `normalize.less` sets `[hidden] { display: none; }` but bootstrap.min.css set `[hidden] { display: none !important; }` so we also need the `!important` here to be able to override the default hidden behavior on the sphinx rendered scikit-learn.org. See: https://github.com/scikit-learn/scikit-learn/issues/21755 */display: inline-block !important;position: relative;}#sk-container-id-2 div.sk-text-repr-fallback {display: none;}</style><div id=\"sk-container-id-2\" class=\"sk-top-container\"><div class=\"sk-text-repr-fallback\"><pre>LinearRegression(fit_intercept=False)</pre><b>In a Jupyter environment, please rerun this cell to show the HTML representation or trust the notebook. <br />On GitHub, the HTML representation is unable to render, please try loading this page with nbviewer.org.</b></div><div class=\"sk-container\" hidden><div class=\"sk-item\"><div class=\"sk-estimator sk-toggleable\"><input class=\"sk-toggleable__control sk-hidden--visually\" id=\"sk-estimator-id-2\" type=\"checkbox\" checked><label for=\"sk-estimator-id-2\" class=\"sk-toggleable__label sk-toggleable__label-arrow\">LinearRegression</label><div class=\"sk-toggleable__content\"><pre>LinearRegression(fit_intercept=False)</pre></div></div></div></div></div>"
                        ],
                        "text/plain": [
                            "LinearRegression(fit_intercept=False)"
                        ]
                    },
                    "execution_count": 101,
                    "metadata": {},
                    "output_type": "execute_result"
                }
            ],
            "source": [
                "#Sacarle el intercept\n",
                "#Modelo sin constante\n",
                "\n",
                "model3 = LinearRegression(fit_intercept=False) #cargar modelo\n",
                "\n",
                "#Entrenar\n",
                "\n",
                "model3.fit(x_train, y_train)\n"
            ]
        },
        {
            "cell_type": "code",
            "execution_count": 104,
            "metadata": {},
            "outputs": [],
            "source": [
                "#Predicciones\n",
                "\n",
                "y_pred = model3.predict(x_test)"
            ]
        },
        {
            "cell_type": "code",
            "execution_count": 106,
            "metadata": {},
            "outputs": [
                {
                    "name": "stdout",
                    "output_type": "stream",
                    "text": [
                        "Modelo sin constante\n",
                        "Mean Absolute Error:  4278.042622074816\n",
                        "Mean Squared Error:  34870064.92980866\n",
                        "Root Mean Squared Error:  5905.088054365376\n"
                    ]
                }
            ],
            "source": [
                "#Metricas \n",
                "print(\"Modelo sin constante\")\n",
                "print(\"Mean Absolute Error: \",metrics.mean_absolute_error(y_test, y_pred))\n",
                "print(\"Mean Squared Error: \",metrics.mean_squared_error(y_test, y_pred))\n",
                "print(\"Root Mean Squared Error: \",np.sqrt(metrics.mean_squared_error(y_test, y_pred)))"
            ]
        },
        {
            "cell_type": "code",
            "execution_count": 110,
            "metadata": {},
            "outputs": [],
            "source": [
                "#Modelo con polinomio de segundo grado\n",
                " \n",
                "poly_features = PolynomialFeatures(degree = 2) #Parábola\n",
                "\n",
                "#Transforma variables a polinomicas\n",
                "\n",
                "x_poly_train = poly_features.fit_transform(x_train) \n",
                "x_poly_test = poly_features.fit_transform(x_test)\n",
                "\n",
                "modelo4 = model.fit(x_poly_train, y_train)"
            ]
        },
        {
            "cell_type": "code",
            "execution_count": 111,
            "metadata": {},
            "outputs": [],
            "source": [
                "y_pred = modelo4.predict(x_poly_test)"
            ]
        },
        {
            "cell_type": "code",
            "execution_count": 112,
            "metadata": {},
            "outputs": [
                {
                    "name": "stdout",
                    "output_type": "stream",
                    "text": [
                        "Mean Absolute Error:  3794.6198658238804\n",
                        "Mean Squared Error:  27793221.25291654\n",
                        "Root Mean Squared Error:  5271.927660061027\n"
                    ]
                }
            ],
            "source": [
                "print(\"Mean Absolute Error: \",metrics.mean_absolute_error(y_test, y_pred))\n",
                "print(\"Mean Squared Error: \",metrics.mean_squared_error(y_test, y_pred))\n",
                "print(\"Root Mean Squared Error: \",np.sqrt(metrics.mean_squared_error(y_test, y_pred)))"
            ]
        }
    ],
    "metadata": {
        "kernelspec": {
            "display_name": "Python 3.8.13 64-bit ('3.8.13')",
            "language": "python",
            "name": "python3"
        },
        "language_info": {
            "codemirror_mode": {
                "name": "ipython",
                "version": 3
            },
            "file_extension": ".py",
            "mimetype": "text/x-python",
            "name": "python",
            "nbconvert_exporter": "python",
            "pygments_lexer": "ipython3",
            "version": "3.8.13"
        },
        "orig_nbformat": 4,
        "vscode": {
            "interpreter": {
                "hash": "110cc1dee26208153f2972f08a2ad52b6a56238dc66d48e87fb757ef2996db56"
            }
        }
    },
    "nbformat": 4,
    "nbformat_minor": 2
}
